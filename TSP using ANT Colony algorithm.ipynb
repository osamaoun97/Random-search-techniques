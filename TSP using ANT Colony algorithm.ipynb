{
 "cells": [
  {
   "attachments": {},
   "cell_type": "markdown",
   "id": "16b05f1e",
   "metadata": {
    "ExecuteTime": {
     "end_time": "2023-05-18T16:57:28.157322Z",
     "start_time": "2023-05-18T16:57:28.148332Z"
    }
   },
   "source": [
    "# Import libraries"
   ]
  },
  {
   "cell_type": "code",
   "execution_count": 1,
   "id": "38e81013",
   "metadata": {
    "ExecuteTime": {
     "end_time": "2023-05-19T12:03:40.606335Z",
     "start_time": "2023-05-19T12:03:40.589379Z"
    }
   },
   "outputs": [],
   "source": [
    "import numpy as np\n",
    "import pandas as pd\n",
    "from sklearn.metrics.pairwise import euclidean_distances\n",
    "import matplotlib.pyplot as plt\n",
    "from IPython.display import clear_output\n",
    "%matplotlib inline"
   ]
  },
  {
   "attachments": {},
   "cell_type": "markdown",
   "id": "be8e6b2b",
   "metadata": {
    "ExecuteTime": {
     "end_time": "2023-05-18T16:57:38.594509Z",
     "start_time": "2023-05-18T16:57:38.577555Z"
    }
   },
   "source": [
    "# Read data"
   ]
  },
  {
   "cell_type": "code",
   "execution_count": 2,
   "id": "eb88ff4e",
   "metadata": {
    "ExecuteTime": {
     "end_time": "2023-05-19T12:03:41.024217Z",
     "start_time": "2023-05-19T12:03:41.015249Z"
    }
   },
   "outputs": [],
   "source": [
    "cities = pd.read_csv('cities.csv')"
   ]
  },
  {
   "attachments": {},
   "cell_type": "markdown",
   "id": "763f65dc",
   "metadata": {
    "ExecuteTime": {
     "end_time": "2023-05-18T16:58:11.349867Z",
     "start_time": "2023-05-18T16:58:11.343887Z"
    }
   },
   "source": [
    "# Calculate distance matrix"
   ]
  },
  {
   "cell_type": "code",
   "execution_count": 3,
   "id": "558ecf57",
   "metadata": {
    "ExecuteTime": {
     "end_time": "2023-05-19T12:03:41.624645Z",
     "start_time": "2023-05-19T12:03:41.610684Z"
    }
   },
   "outputs": [],
   "source": [
    "dist_mat = euclidean_distances(cities[[\"x\",'y']])\n",
    "dist_mat_df = pd.DataFrame(dist_mat)"
   ]
  },
  {
   "cell_type": "code",
   "execution_count": 4,
   "id": "d2754d02",
   "metadata": {
    "ExecuteTime": {
     "end_time": "2023-05-19T12:03:42.062500Z",
     "start_time": "2023-05-19T12:03:42.024601Z"
    },
    "scrolled": false
   },
   "outputs": [
    {
     "data": {
      "text/html": [
       "<div>\n",
       "<style scoped>\n",
       "    .dataframe tbody tr th:only-of-type {\n",
       "        vertical-align: middle;\n",
       "    }\n",
       "\n",
       "    .dataframe tbody tr th {\n",
       "        vertical-align: top;\n",
       "    }\n",
       "\n",
       "    .dataframe thead th {\n",
       "        text-align: right;\n",
       "    }\n",
       "</style>\n",
       "<table border=\"1\" class=\"dataframe\">\n",
       "  <thead>\n",
       "    <tr style=\"text-align: right;\">\n",
       "      <th></th>\n",
       "      <th>0</th>\n",
       "      <th>1</th>\n",
       "      <th>2</th>\n",
       "      <th>3</th>\n",
       "      <th>4</th>\n",
       "      <th>5</th>\n",
       "      <th>6</th>\n",
       "      <th>7</th>\n",
       "      <th>8</th>\n",
       "      <th>9</th>\n",
       "      <th>10</th>\n",
       "      <th>11</th>\n",
       "      <th>12</th>\n",
       "      <th>13</th>\n",
       "      <th>14</th>\n",
       "    </tr>\n",
       "  </thead>\n",
       "  <tbody>\n",
       "    <tr>\n",
       "      <th>0</th>\n",
       "      <td>0.000000</td>\n",
       "      <td>28.873300</td>\n",
       "      <td>82.129526</td>\n",
       "      <td>45.798532</td>\n",
       "      <td>68.350157</td>\n",
       "      <td>52.077630</td>\n",
       "      <td>72.078729</td>\n",
       "      <td>42.021184</td>\n",
       "      <td>51.016605</td>\n",
       "      <td>54.999851</td>\n",
       "      <td>28.729621</td>\n",
       "      <td>74.409471</td>\n",
       "      <td>22.710148</td>\n",
       "      <td>72.005344</td>\n",
       "      <td>45.462810</td>\n",
       "    </tr>\n",
       "    <tr>\n",
       "      <th>1</th>\n",
       "      <td>28.873300</td>\n",
       "      <td>0.000000</td>\n",
       "      <td>54.773225</td>\n",
       "      <td>45.658960</td>\n",
       "      <td>42.029454</td>\n",
       "      <td>43.217097</td>\n",
       "      <td>43.205582</td>\n",
       "      <td>22.769634</td>\n",
       "      <td>22.831269</td>\n",
       "      <td>30.618416</td>\n",
       "      <td>40.635151</td>\n",
       "      <td>51.106819</td>\n",
       "      <td>10.390598</td>\n",
       "      <td>51.904146</td>\n",
       "      <td>20.331958</td>\n",
       "    </tr>\n",
       "    <tr>\n",
       "      <th>2</th>\n",
       "      <td>82.129526</td>\n",
       "      <td>54.773225</td>\n",
       "      <td>0.000000</td>\n",
       "      <td>68.271066</td>\n",
       "      <td>45.678842</td>\n",
       "      <td>54.764850</td>\n",
       "      <td>22.758205</td>\n",
       "      <td>43.255511</td>\n",
       "      <td>40.721275</td>\n",
       "      <td>28.706295</td>\n",
       "      <td>79.494075</td>\n",
       "      <td>20.412598</td>\n",
       "      <td>64.537277</td>\n",
       "      <td>30.808909</td>\n",
       "      <td>51.039095</td>\n",
       "    </tr>\n",
       "    <tr>\n",
       "      <th>3</th>\n",
       "      <td>45.798532</td>\n",
       "      <td>45.658960</td>\n",
       "      <td>68.271066</td>\n",
       "      <td>0.000000</td>\n",
       "      <td>82.288911</td>\n",
       "      <td>14.401838</td>\n",
       "      <td>72.080483</td>\n",
       "      <td>30.516486</td>\n",
       "      <td>62.131194</td>\n",
       "      <td>42.025428</td>\n",
       "      <td>20.635150</td>\n",
       "      <td>50.958418</td>\n",
       "      <td>51.168335</td>\n",
       "      <td>42.911225</td>\n",
       "      <td>64.535357</td>\n",
       "    </tr>\n",
       "    <tr>\n",
       "      <th>4</th>\n",
       "      <td>68.350157</td>\n",
       "      <td>42.029454</td>\n",
       "      <td>45.678842</td>\n",
       "      <td>82.288911</td>\n",
       "      <td>0.000000</td>\n",
       "      <td>74.253893</td>\n",
       "      <td>22.920690</td>\n",
       "      <td>52.130340</td>\n",
       "      <td>20.358579</td>\n",
       "      <td>45.734147</td>\n",
       "      <td>82.084025</td>\n",
       "      <td>57.961693</td>\n",
       "      <td>45.640079</td>\n",
       "      <td>65.543104</td>\n",
       "      <td>22.887352</td>\n",
       "    </tr>\n",
       "    <tr>\n",
       "      <th>5</th>\n",
       "      <td>52.077630</td>\n",
       "      <td>43.217097</td>\n",
       "      <td>54.764850</td>\n",
       "      <td>14.401838</td>\n",
       "      <td>74.253893</td>\n",
       "      <td>0.000000</td>\n",
       "      <td>61.107538</td>\n",
       "      <td>22.702249</td>\n",
       "      <td>54.939798</td>\n",
       "      <td>30.515913</td>\n",
       "      <td>32.348203</td>\n",
       "      <td>36.731547</td>\n",
       "      <td>51.098494</td>\n",
       "      <td>28.510220</td>\n",
       "      <td>59.446348</td>\n",
       "    </tr>\n",
       "    <tr>\n",
       "      <th>6</th>\n",
       "      <td>72.078729</td>\n",
       "      <td>43.205582</td>\n",
       "      <td>22.758205</td>\n",
       "      <td>72.080483</td>\n",
       "      <td>22.920690</td>\n",
       "      <td>61.107538</td>\n",
       "      <td>0.000000</td>\n",
       "      <td>42.119403</td>\n",
       "      <td>22.763969</td>\n",
       "      <td>30.591751</td>\n",
       "      <td>77.534434</td>\n",
       "      <td>36.912330</td>\n",
       "      <td>51.081360</td>\n",
       "      <td>45.791797</td>\n",
       "      <td>32.374102</td>\n",
       "    </tr>\n",
       "    <tr>\n",
       "      <th>7</th>\n",
       "      <td>42.021184</td>\n",
       "      <td>22.769634</td>\n",
       "      <td>43.255511</td>\n",
       "      <td>30.516486</td>\n",
       "      <td>52.130340</td>\n",
       "      <td>22.702249</td>\n",
       "      <td>42.119403</td>\n",
       "      <td>0.000000</td>\n",
       "      <td>32.387302</td>\n",
       "      <td>14.549322</td>\n",
       "      <td>36.599190</td>\n",
       "      <td>32.444970</td>\n",
       "      <td>32.380180</td>\n",
       "      <td>30.525324</td>\n",
       "      <td>36.845823</td>\n",
       "    </tr>\n",
       "    <tr>\n",
       "      <th>8</th>\n",
       "      <td>51.016605</td>\n",
       "      <td>22.831269</td>\n",
       "      <td>40.721275</td>\n",
       "      <td>62.131194</td>\n",
       "      <td>20.358579</td>\n",
       "      <td>54.939798</td>\n",
       "      <td>22.763969</td>\n",
       "      <td>32.387302</td>\n",
       "      <td>0.000000</td>\n",
       "      <td>28.962861</td>\n",
       "      <td>61.952396</td>\n",
       "      <td>45.826845</td>\n",
       "      <td>28.982552</td>\n",
       "      <td>51.118842</td>\n",
       "      <td>10.318774</td>\n",
       "    </tr>\n",
       "    <tr>\n",
       "      <th>9</th>\n",
       "      <td>54.999851</td>\n",
       "      <td>30.618416</td>\n",
       "      <td>28.706295</td>\n",
       "      <td>42.025428</td>\n",
       "      <td>45.734147</td>\n",
       "      <td>30.515913</td>\n",
       "      <td>30.591751</td>\n",
       "      <td>14.549322</td>\n",
       "      <td>28.962861</td>\n",
       "      <td>0.000000</td>\n",
       "      <td>50.952978</td>\n",
       "      <td>20.488427</td>\n",
       "      <td>41.009011</td>\n",
       "      <td>22.760032</td>\n",
       "      <td>36.916192</td>\n",
       "    </tr>\n",
       "    <tr>\n",
       "      <th>10</th>\n",
       "      <td>28.729621</td>\n",
       "      <td>40.635151</td>\n",
       "      <td>79.494075</td>\n",
       "      <td>20.635150</td>\n",
       "      <td>82.084025</td>\n",
       "      <td>32.348203</td>\n",
       "      <td>77.534434</td>\n",
       "      <td>36.599190</td>\n",
       "      <td>61.952396</td>\n",
       "      <td>50.952978</td>\n",
       "      <td>0.000000</td>\n",
       "      <td>65.363444</td>\n",
       "      <td>41.903052</td>\n",
       "      <td>59.240223</td>\n",
       "      <td>60.966033</td>\n",
       "    </tr>\n",
       "    <tr>\n",
       "      <th>11</th>\n",
       "      <td>74.409471</td>\n",
       "      <td>51.106819</td>\n",
       "      <td>20.412598</td>\n",
       "      <td>50.958418</td>\n",
       "      <td>57.961693</td>\n",
       "      <td>36.731547</td>\n",
       "      <td>36.912330</td>\n",
       "      <td>32.444970</td>\n",
       "      <td>45.826845</td>\n",
       "      <td>20.488427</td>\n",
       "      <td>65.363444</td>\n",
       "      <td>0.000000</td>\n",
       "      <td>61.497405</td>\n",
       "      <td>10.401327</td>\n",
       "      <td>55.198204</td>\n",
       "    </tr>\n",
       "    <tr>\n",
       "      <th>12</th>\n",
       "      <td>22.710148</td>\n",
       "      <td>10.390598</td>\n",
       "      <td>64.537277</td>\n",
       "      <td>51.168335</td>\n",
       "      <td>45.640079</td>\n",
       "      <td>51.098494</td>\n",
       "      <td>51.081360</td>\n",
       "      <td>32.380180</td>\n",
       "      <td>28.982552</td>\n",
       "      <td>41.009011</td>\n",
       "      <td>41.903052</td>\n",
       "      <td>61.497405</td>\n",
       "      <td>0.000000</td>\n",
       "      <td>62.116026</td>\n",
       "      <td>22.752779</td>\n",
       "    </tr>\n",
       "    <tr>\n",
       "      <th>13</th>\n",
       "      <td>72.005344</td>\n",
       "      <td>51.904146</td>\n",
       "      <td>30.808909</td>\n",
       "      <td>42.911225</td>\n",
       "      <td>65.543104</td>\n",
       "      <td>28.510220</td>\n",
       "      <td>45.791797</td>\n",
       "      <td>30.525324</td>\n",
       "      <td>51.118842</td>\n",
       "      <td>22.760032</td>\n",
       "      <td>59.240223</td>\n",
       "      <td>10.401327</td>\n",
       "      <td>62.116026</td>\n",
       "      <td>0.000000</td>\n",
       "      <td>59.595944</td>\n",
       "    </tr>\n",
       "    <tr>\n",
       "      <th>14</th>\n",
       "      <td>45.462810</td>\n",
       "      <td>20.331958</td>\n",
       "      <td>51.039095</td>\n",
       "      <td>64.535357</td>\n",
       "      <td>22.887352</td>\n",
       "      <td>59.446348</td>\n",
       "      <td>32.374102</td>\n",
       "      <td>36.845823</td>\n",
       "      <td>10.318774</td>\n",
       "      <td>36.916192</td>\n",
       "      <td>60.966033</td>\n",
       "      <td>55.198204</td>\n",
       "      <td>22.752779</td>\n",
       "      <td>59.595944</td>\n",
       "      <td>0.000000</td>\n",
       "    </tr>\n",
       "  </tbody>\n",
       "</table>\n",
       "</div>"
      ],
      "text/plain": [
       "           0          1          2          3          4          5   \\\n",
       "0    0.000000  28.873300  82.129526  45.798532  68.350157  52.077630   \n",
       "1   28.873300   0.000000  54.773225  45.658960  42.029454  43.217097   \n",
       "2   82.129526  54.773225   0.000000  68.271066  45.678842  54.764850   \n",
       "3   45.798532  45.658960  68.271066   0.000000  82.288911  14.401838   \n",
       "4   68.350157  42.029454  45.678842  82.288911   0.000000  74.253893   \n",
       "5   52.077630  43.217097  54.764850  14.401838  74.253893   0.000000   \n",
       "6   72.078729  43.205582  22.758205  72.080483  22.920690  61.107538   \n",
       "7   42.021184  22.769634  43.255511  30.516486  52.130340  22.702249   \n",
       "8   51.016605  22.831269  40.721275  62.131194  20.358579  54.939798   \n",
       "9   54.999851  30.618416  28.706295  42.025428  45.734147  30.515913   \n",
       "10  28.729621  40.635151  79.494075  20.635150  82.084025  32.348203   \n",
       "11  74.409471  51.106819  20.412598  50.958418  57.961693  36.731547   \n",
       "12  22.710148  10.390598  64.537277  51.168335  45.640079  51.098494   \n",
       "13  72.005344  51.904146  30.808909  42.911225  65.543104  28.510220   \n",
       "14  45.462810  20.331958  51.039095  64.535357  22.887352  59.446348   \n",
       "\n",
       "           6          7          8          9          10         11  \\\n",
       "0   72.078729  42.021184  51.016605  54.999851  28.729621  74.409471   \n",
       "1   43.205582  22.769634  22.831269  30.618416  40.635151  51.106819   \n",
       "2   22.758205  43.255511  40.721275  28.706295  79.494075  20.412598   \n",
       "3   72.080483  30.516486  62.131194  42.025428  20.635150  50.958418   \n",
       "4   22.920690  52.130340  20.358579  45.734147  82.084025  57.961693   \n",
       "5   61.107538  22.702249  54.939798  30.515913  32.348203  36.731547   \n",
       "6    0.000000  42.119403  22.763969  30.591751  77.534434  36.912330   \n",
       "7   42.119403   0.000000  32.387302  14.549322  36.599190  32.444970   \n",
       "8   22.763969  32.387302   0.000000  28.962861  61.952396  45.826845   \n",
       "9   30.591751  14.549322  28.962861   0.000000  50.952978  20.488427   \n",
       "10  77.534434  36.599190  61.952396  50.952978   0.000000  65.363444   \n",
       "11  36.912330  32.444970  45.826845  20.488427  65.363444   0.000000   \n",
       "12  51.081360  32.380180  28.982552  41.009011  41.903052  61.497405   \n",
       "13  45.791797  30.525324  51.118842  22.760032  59.240223  10.401327   \n",
       "14  32.374102  36.845823  10.318774  36.916192  60.966033  55.198204   \n",
       "\n",
       "           12         13         14  \n",
       "0   22.710148  72.005344  45.462810  \n",
       "1   10.390598  51.904146  20.331958  \n",
       "2   64.537277  30.808909  51.039095  \n",
       "3   51.168335  42.911225  64.535357  \n",
       "4   45.640079  65.543104  22.887352  \n",
       "5   51.098494  28.510220  59.446348  \n",
       "6   51.081360  45.791797  32.374102  \n",
       "7   32.380180  30.525324  36.845823  \n",
       "8   28.982552  51.118842  10.318774  \n",
       "9   41.009011  22.760032  36.916192  \n",
       "10  41.903052  59.240223  60.966033  \n",
       "11  61.497405  10.401327  55.198204  \n",
       "12   0.000000  62.116026  22.752779  \n",
       "13  62.116026   0.000000  59.595944  \n",
       "14  22.752779  59.595944   0.000000  "
      ]
     },
     "execution_count": 4,
     "metadata": {},
     "output_type": "execute_result"
    }
   ],
   "source": [
    "dist_mat_df.head(15)"
   ]
  },
  {
   "attachments": {},
   "cell_type": "markdown",
   "id": "d2b3fe7d",
   "metadata": {
    "ExecuteTime": {
     "end_time": "2023-05-18T16:56:34.398988Z",
     "start_time": "2023-05-18T16:56:34.389016Z"
    }
   },
   "source": [
    "# Plotting function"
   ]
  },
  {
   "cell_type": "code",
   "execution_count": 16,
   "id": "45ef6fcc",
   "metadata": {
    "ExecuteTime": {
     "end_time": "2023-05-19T12:03:42.944141Z",
     "start_time": "2023-05-19T12:03:42.917214Z"
    }
   },
   "outputs": [],
   "source": [
    "def plot_tour(tour, cost):\n",
    "    clear_output(wait=True)\n",
    "    n_cities = tour.shape[0]\n",
    "    plt.rcParams[\"figure.figsize\"] = [5, 5]\n",
    "    X_values = cities[\"x\"]\n",
    "    Y_values = cities[\"y\"]\n",
    "    for i in range(n_cities):\n",
    "        plt.text(X_values[i], Y_values[i], f\"Point{i+1}\")\n",
    "\n",
    "    for i in range(n_cities-1):\n",
    "        city1, city2 = tour[i], tour[i+1]\n",
    "        point1 = [X_values[city1], Y_values[city1]]\n",
    "        point2 = [X_values[city2], Y_values[city2]]\n",
    "        x_values = [point1[0], point2[0]]\n",
    "        y_values = [point1[1], point2[1]]\n",
    "        plt.plot(x_values, y_values, 'bo', linestyle=\"--\")\n",
    "    plt.axis('off')\n",
    "    plt.grid()\n",
    "    plt.title(f\"Best tour path, best distance = {cost}\")\n",
    "    plt.show()"
   ]
  },
  {
   "attachments": {},
   "cell_type": "markdown",
   "id": "46b652ac",
   "metadata": {},
   "source": [
    "# Ant Colony metaheuristic Algorithm"
   ]
  },
  {
   "cell_type": "code",
   "execution_count": 11,
   "id": "6a069a5d",
   "metadata": {
    "ExecuteTime": {
     "end_time": "2023-05-19T12:03:43.615578Z",
     "start_time": "2023-05-19T12:03:43.582668Z"
    }
   },
   "outputs": [],
   "source": [
    "class AntColonyAlgorithm:\n",
    "    \n",
    "    # Initialize paramenters\n",
    "    \n",
    "    def __init__(self, dist_mat, num_ants, num_iterations, alpha=1.0, beta=5.0, evaporation=0.5):\n",
    "        self.dist_mat = dist_mat\n",
    "        self.num_ants = num_ants\n",
    "        self.num_iterations = num_iterations\n",
    "        self.alpha = alpha\n",
    "        self.beta = beta\n",
    "        self.evaporation = evaporation\n",
    "        self.num_cities = dist_mat.shape[0]\n",
    "        \n",
    "        # Initialize phermones matrix\n",
    "        self.pheromone = np.ones((self.num_cities, self.num_cities))\n",
    "        \n",
    "    # main function\n",
    "    \n",
    "    def run(self):\n",
    "        \n",
    "        # Initialize best path and distance\n",
    "        best_path = None\n",
    "        best_distance = float('inf')\n",
    "        \n",
    "        # iterate over n of iterations\n",
    "        \n",
    "        for iteration in range(self.num_iterations):\n",
    "            \n",
    "            # construct paths of ants\n",
    "            paths = self.construct_ant_paths()\n",
    "            \n",
    "            # update phermone matrix\n",
    "            self.update_pheromone_trails(paths)\n",
    "            \n",
    "            # compare old and new best paths\n",
    "            current_best_path, current_best_distance = self.get_best_path(paths)\n",
    "            if current_best_distance < best_distance:\n",
    "                best_path = current_best_path\n",
    "                best_distance = current_best_distance\n",
    "                \n",
    "            # evapourate phermone\n",
    "            self.evaporate_pheromone_trails()\n",
    "            \n",
    "        # return results\n",
    "        return best_path, best_distance\n",
    "    \n",
    "    def construct_ant_paths(self):\n",
    "        \n",
    "        paths = []\n",
    "        \n",
    "        # iterate over ants and calculate paths\n",
    "        for ant in range(self.num_ants):\n",
    "            visited = np.zeros(self.num_cities, dtype=bool)\n",
    "            path = np.zeros(self.num_cities, dtype=int)\n",
    "            path[0] = start_city = np.random.randint(self.num_cities)\n",
    "            visited[start_city] = True\n",
    "            \n",
    "            for i in range(1, self.num_cities):\n",
    "                next_city = self.choose_next_city(path[i-1], visited)\n",
    "                path[i] = next_city\n",
    "                visited[next_city] = True\n",
    "            \n",
    "            paths.append(path)\n",
    "        \n",
    "        return paths\n",
    "    \n",
    "    # choose next city based on equation\n",
    "    def choose_next_city(self, current_city, visited):\n",
    "        pheromone = self.pheromone[current_city] ** self.alpha\n",
    "        attractiveness = (1.0 / self.dist_mat[current_city]) ** self.beta\n",
    "        probabilities = pheromone * attractiveness\n",
    "        \n",
    "        probabilities[visited] = 0.0\n",
    "        probabilities /= probabilities.sum()\n",
    "        \n",
    "        next_city = np.random.choice(np.arange(self.num_cities), p=probabilities)\n",
    "        \n",
    "        return next_city\n",
    "    \n",
    "    # update phermone matrix\n",
    "    def update_pheromone_trails(self, paths):\n",
    "        delta_pheromone = np.zeros((self.num_cities, self.num_cities))\n",
    "        \n",
    "        for path in paths:\n",
    "            path_distance = self.calculate_path_distance(path)\n",
    "            \n",
    "            for i in range(self.num_cities - 1):\n",
    "                current_city, next_city = path[i], path[i+1]\n",
    "                delta_pheromone[current_city][next_city] += 1.0 / path_distance\n",
    "                \n",
    "            delta_pheromone[path[-1]][path[0]] += 1.0 / path_distance\n",
    "        \n",
    "        self.pheromone = (1.0 - self.evaporation) * self.pheromone + delta_pheromone\n",
    "    \n",
    "    # evapurate phermone\n",
    "    def evaporate_pheromone_trails(self):\n",
    "        self.pheromone *= (1.0 - self.evaporation)\n",
    "    \n",
    "    # calculate path distance\n",
    "    def calculate_path_distance(self, path):\n",
    "        distance = 0.0\n",
    "        \n",
    "        for i in range(self.num_cities - 1):\n",
    "            distance += self.dist_mat[path[i]][path[i+1]]\n",
    "        \n",
    "        distance += self.dist_mat[path[-1]][path[0]]\n",
    "        \n",
    "        return distance\n",
    "    \n",
    "    # get best path from different paths\n",
    "    def get_best_path(self, paths):\n",
    "        best_path = None\n",
    "        best_distance = float('inf')\n",
    "        \n",
    "        for path in paths:\n",
    "            distance = self.calculate_path_distance(path)\n",
    "            \n",
    "            if distance < best_distance:\n",
    "                best_path = path\n",
    "                best_distance = distance\n",
    "        \n",
    "        return best_path, best_distance"
   ]
  },
  {
   "attachments": {},
   "cell_type": "markdown",
   "id": "d54785f3",
   "metadata": {
    "ExecuteTime": {
     "end_time": "2023-05-18T16:57:05.032377Z",
     "start_time": "2023-05-18T16:57:05.014432Z"
    }
   },
   "source": [
    "# Example"
   ]
  },
  {
   "cell_type": "code",
   "execution_count": 12,
   "id": "574d34bc",
   "metadata": {
    "ExecuteTime": {
     "end_time": "2023-05-19T12:19:41.348017Z",
     "start_time": "2023-05-19T12:19:39.746540Z"
    },
    "scrolled": false
   },
   "outputs": [
    {
     "name": "stderr",
     "output_type": "stream",
     "text": [
      "C:\\Users\\y\\AppData\\Local\\Temp\\ipykernel_20632\\3702212415.py:70: RuntimeWarning: divide by zero encountered in true_divide\n",
      "  attractiveness = (1.0 / self.dist_mat[current_city]) ** self.beta\n"
     ]
    }
   ],
   "source": [
    "num_ants = 50\n",
    "num_iterations = 50\n",
    "alpha = 5.0\n",
    "beta = 5.0\n",
    "evaporation = 0.5\n",
    "\n",
    "aco = AntColonyAlgorithm(dist_mat, num_ants, num_iterations, alpha, beta, evaporation)\n",
    "best_path, best_distance = aco.run()"
   ]
  },
  {
   "cell_type": "code",
   "execution_count": 13,
   "id": "400da9b8",
   "metadata": {
    "ExecuteTime": {
     "end_time": "2023-05-19T12:19:42.120406Z",
     "start_time": "2023-05-19T12:19:42.103484Z"
    },
    "scrolled": true
   },
   "outputs": [
    {
     "name": "stdout",
     "output_type": "stream",
     "text": [
      "Best path: [11  1 13  2 15  9  5  7  3 12 14 10  8  6  4]\n",
      "Best distance: 284.38109040803306\n"
     ]
    }
   ],
   "source": [
    "print(\"Best path:\", best_path+1)\n",
    "print(\"Best distance:\", best_distance)"
   ]
  },
  {
   "attachments": {},
   "cell_type": "markdown",
   "id": "81976635",
   "metadata": {},
   "source": [
    "# Plot path"
   ]
  },
  {
   "cell_type": "code",
   "execution_count": 17,
   "id": "cd576781",
   "metadata": {
    "ExecuteTime": {
     "end_time": "2023-05-19T12:19:44.126209Z",
     "start_time": "2023-05-19T12:19:43.776781Z"
    }
   },
   "outputs": [
    {
     "data": {
      "image/png": "[encoded data removed]",
      "text/plain": [
       "<Figure size 500x500 with 1 Axes>"
      ]
     },
     "metadata": {},
     "output_type": "display_data"
    }
   ],
   "source": [
    "plot_tour(best_path, best_distance)"
   ]
  }
 ],
 "metadata": {
  "kernelspec": {
   "display_name": "Python 3 (ipykernel)",
   "language": "python",
   "name": "python3"
  },
  "language_info": {
   "codemirror_mode": {
    "name": "ipython",
    "version": 3
   },
   "file_extension": ".py",
   "mimetype": "text/x-python",
   "name": "python",
   "nbconvert_exporter": "python",
   "pygments_lexer": "ipython3",
   "version": "3.9.13"
  }
 },
 "nbformat": 4,
 "nbformat_minor": 5
}
